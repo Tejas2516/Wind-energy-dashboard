{
 "cells": [
  {
   "cell_type": "markdown",
   "id": "b47e011b",
   "metadata": {},
   "source": [
    "Energy Monitoring & Reporting Dashboard for Wind Turbines"
   ]
  },
  {
   "cell_type": "code",
   "execution_count": 18,
   "id": "dec36ef6",
   "metadata": {},
   "outputs": [
    {
     "name": "stdout",
     "output_type": "stream",
     "text": [
      "✅ Wind turbine data generated and saved as 'wind_turbine_data.csv'\n"
     ]
    }
   ],
   "source": [
    "import pandas as pd\n",
    "import numpy as np\n",
    "from datetime import datetime, timedelta\n",
    "\n",
    "# Parameters\n",
    "start_date = \"2025-06-01\"\n",
    "end_date = \"2025-06-30 23:00\"\n",
    "turbines = ['T1', 'T2', 'T3', 'T4', 'T5']\n",
    "\n",
    "# Create hourly timestamps\n",
    "timestamps = pd.date_range(start=start_date, end=end_date, freq='h', inclusive='both')\n",
    "data = []\n",
    "\n",
    "for ts in timestamps:\n",
    "    for t in turbines:\n",
    "        wind_speed = np.round(np.random.uniform(3, 25), 2)\n",
    "        power_output = np.round(wind_speed**3 / 100, 2) if wind_speed >= 3 else 0  # basic cubic formula\n",
    "        temperature = np.round(np.random.uniform(15, 45), 1)\n",
    "        downtime = 0 if np.random.rand() > 0.95 else np.random.choice([0, 5, 10, 15], p=[0.9, 0.03, 0.04, 0.03])\n",
    "        data.append([ts, t, wind_speed, power_output, temperature, downtime])\n",
    "\n",
    "df = pd.DataFrame(data, columns=['Timestamp', 'Turbine_ID', 'Wind_Speed', 'Power_Output', 'Temperature', 'Downtime'])\n",
    "\n",
    "# Save to CSV\n",
    "df.to_csv(\"wind_turbine_data.csv\", index=False)\n",
    "\n",
    "print(\"✅ Wind turbine data generated and saved as 'wind_turbine_data.csv'\")\n"
   ]
  },
  {
   "cell_type": "code",
   "execution_count": 5,
   "id": "79b39730",
   "metadata": {},
   "outputs": [],
   "source": [
    "import pandas as pd"
   ]
  },
  {
   "cell_type": "code",
   "execution_count": 6,
   "id": "04f05021",
   "metadata": {},
   "outputs": [],
   "source": [
    "df = pd.read_csv(\"wind_turbine_data.csv\")"
   ]
  },
  {
   "cell_type": "code",
   "execution_count": 19,
   "id": "213b7c8e",
   "metadata": {},
   "outputs": [
    {
     "data": {
      "text/plain": [
       "(3600, 6)"
      ]
     },
     "execution_count": 19,
     "metadata": {},
     "output_type": "execute_result"
    }
   ],
   "source": [
    "df.shape"
   ]
  },
  {
   "cell_type": "code",
   "execution_count": 9,
   "id": "955fb4d2",
   "metadata": {},
   "outputs": [
    {
     "data": {
      "text/plain": [
       "Index(['Timestamp', 'Turbine_ID', 'Wind_Speed', 'Power_Output', 'Temperature',\n",
       "       'Downtime'],\n",
       "      dtype='object')"
      ]
     },
     "execution_count": 9,
     "metadata": {},
     "output_type": "execute_result"
    }
   ],
   "source": [
    "df.columns"
   ]
  },
  {
   "cell_type": "code",
   "execution_count": 10,
   "id": "1a0493dc",
   "metadata": {},
   "outputs": [
    {
     "data": {
      "text/plain": [
       "Timestamp        object\n",
       "Turbine_ID       object\n",
       "Wind_Speed      float64\n",
       "Power_Output    float64\n",
       "Temperature     float64\n",
       "Downtime          int64\n",
       "dtype: object"
      ]
     },
     "execution_count": 10,
     "metadata": {},
     "output_type": "execute_result"
    }
   ],
   "source": [
    "df.dtypes"
   ]
  },
  {
   "cell_type": "code",
   "execution_count": 12,
   "id": "c9495a00",
   "metadata": {},
   "outputs": [],
   "source": [
    "df['Timestamp'] = pd.to_datetime(df['Timestamp'])"
   ]
  },
  {
   "cell_type": "code",
   "execution_count": 13,
   "id": "2d20d0ce",
   "metadata": {},
   "outputs": [
    {
     "data": {
      "text/plain": [
       "Timestamp       0\n",
       "Turbine_ID      0\n",
       "Wind_Speed      0\n",
       "Power_Output    0\n",
       "Temperature     0\n",
       "Downtime        0\n",
       "dtype: int64"
      ]
     },
     "execution_count": 13,
     "metadata": {},
     "output_type": "execute_result"
    }
   ],
   "source": [
    "df.isnull().sum()"
   ]
  },
  {
   "cell_type": "code",
   "execution_count": 14,
   "id": "cac703cc",
   "metadata": {},
   "outputs": [
    {
     "data": {
      "text/plain": [
       "<bound method NDFrame.describe of       Timestamp Turbine_ID  Wind_Speed  Power_Output  Temperature  Downtime\n",
       "0    2025-06-01         T1       18.19         60.19         36.6         0\n",
       "1    2025-06-01         T2        5.53          1.69         25.1         0\n",
       "2    2025-06-01         T3        5.18          1.39         18.6         0\n",
       "3    2025-06-01         T4       21.08         93.67         44.1         0\n",
       "4    2025-06-01         T5        8.97          7.22         32.2         0\n",
       "...         ...        ...         ...           ...          ...       ...\n",
       "3480 2025-06-30         T1       22.17        108.97         34.3         0\n",
       "3481 2025-06-30         T2       13.85         26.57         28.4         0\n",
       "3482 2025-06-30         T3       18.09         59.20         26.3         0\n",
       "3483 2025-06-30         T4       15.09         34.36         16.6         0\n",
       "3484 2025-06-30         T5       18.10         59.30         43.3         0\n",
       "\n",
       "[3485 rows x 6 columns]>"
      ]
     },
     "execution_count": 14,
     "metadata": {},
     "output_type": "execute_result"
    }
   ],
   "source": [
    "df.describe"
   ]
  },
  {
   "cell_type": "code",
   "execution_count": 16,
   "id": "1c20fc7f",
   "metadata": {},
   "outputs": [
    {
     "data": {
      "text/html": [
       "<div>\n",
       "<style scoped>\n",
       "    .dataframe tbody tr th:only-of-type {\n",
       "        vertical-align: middle;\n",
       "    }\n",
       "\n",
       "    .dataframe tbody tr th {\n",
       "        vertical-align: top;\n",
       "    }\n",
       "\n",
       "    .dataframe thead th {\n",
       "        text-align: right;\n",
       "    }\n",
       "</style>\n",
       "<table border=\"1\" class=\"dataframe\">\n",
       "  <thead>\n",
       "    <tr style=\"text-align: right;\">\n",
       "      <th></th>\n",
       "      <th>Timestamp</th>\n",
       "      <th>Turbine_ID</th>\n",
       "      <th>Wind_Speed</th>\n",
       "      <th>Power_Output</th>\n",
       "      <th>Temperature</th>\n",
       "      <th>Downtime</th>\n",
       "    </tr>\n",
       "  </thead>\n",
       "  <tbody>\n",
       "    <tr>\n",
       "      <th>0</th>\n",
       "      <td>2025-06-01</td>\n",
       "      <td>T1</td>\n",
       "      <td>18.19</td>\n",
       "      <td>60.19</td>\n",
       "      <td>36.6</td>\n",
       "      <td>0</td>\n",
       "    </tr>\n",
       "    <tr>\n",
       "      <th>1</th>\n",
       "      <td>2025-06-01</td>\n",
       "      <td>T2</td>\n",
       "      <td>5.53</td>\n",
       "      <td>1.69</td>\n",
       "      <td>25.1</td>\n",
       "      <td>0</td>\n",
       "    </tr>\n",
       "    <tr>\n",
       "      <th>2</th>\n",
       "      <td>2025-06-01</td>\n",
       "      <td>T3</td>\n",
       "      <td>5.18</td>\n",
       "      <td>1.39</td>\n",
       "      <td>18.6</td>\n",
       "      <td>0</td>\n",
       "    </tr>\n",
       "    <tr>\n",
       "      <th>3</th>\n",
       "      <td>2025-06-01</td>\n",
       "      <td>T4</td>\n",
       "      <td>21.08</td>\n",
       "      <td>93.67</td>\n",
       "      <td>44.1</td>\n",
       "      <td>0</td>\n",
       "    </tr>\n",
       "    <tr>\n",
       "      <th>4</th>\n",
       "      <td>2025-06-01</td>\n",
       "      <td>T5</td>\n",
       "      <td>8.97</td>\n",
       "      <td>7.22</td>\n",
       "      <td>32.2</td>\n",
       "      <td>0</td>\n",
       "    </tr>\n",
       "  </tbody>\n",
       "</table>\n",
       "</div>"
      ],
      "text/plain": [
       "   Timestamp Turbine_ID  Wind_Speed  Power_Output  Temperature  Downtime\n",
       "0 2025-06-01         T1       18.19         60.19         36.6         0\n",
       "1 2025-06-01         T2        5.53          1.69         25.1         0\n",
       "2 2025-06-01         T3        5.18          1.39         18.6         0\n",
       "3 2025-06-01         T4       21.08         93.67         44.1         0\n",
       "4 2025-06-01         T5        8.97          7.22         32.2         0"
      ]
     },
     "execution_count": 16,
     "metadata": {},
     "output_type": "execute_result"
    }
   ],
   "source": [
    "df.head()"
   ]
  },
  {
   "cell_type": "code",
   "execution_count": 20,
   "id": "bcd6138b",
   "metadata": {},
   "outputs": [],
   "source": [
    "df['Date'] = df['Timestamp'].dt.date\n",
    "df['Hour'] = df['Timestamp'].dt.hour\n",
    "df['Weekday'] = df['Timestamp'].dt.day_name()"
   ]
  },
  {
   "cell_type": "markdown",
   "id": "2a682063",
   "metadata": {},
   "source": [
    " 1. Total power output per turbine"
   ]
  },
  {
   "cell_type": "code",
   "execution_count": 21,
   "id": "6fe070e8",
   "metadata": {},
   "outputs": [
    {
     "name": "stdout",
     "output_type": "stream",
     "text": [
      "Total Power Output (kW):\n",
      "Turbine_ID\n",
      "T3    32976.39\n",
      "T5    31168.62\n",
      "T2    30978.88\n",
      "T4    30902.78\n",
      "T1    30492.44\n",
      "Name: Power_Output, dtype: float64\n"
     ]
    }
   ],
   "source": [
    "total_power = df.groupby(\"Turbine_ID\")[\"Power_Output\"].sum().sort_values(ascending=False)\n",
    "print(\"Total Power Output (kW):\")\n",
    "print(total_power)"
   ]
  },
  {
   "cell_type": "markdown",
   "id": "535c0c83",
   "metadata": {},
   "source": [
    "2. Average wind speed vs power output correlation"
   ]
  },
  {
   "cell_type": "code",
   "execution_count": 25,
   "id": "a0327198",
   "metadata": {},
   "outputs": [
    {
     "name": "stdout",
     "output_type": "stream",
     "text": [
      "Correlation matrix:\n",
      "              Wind_Speed  Power_Output\n",
      "Wind_Speed      1.000000      0.938323\n",
      "Power_Output    0.938323      1.000000\n"
     ]
    }
   ],
   "source": [
    "correlation = df[[\"Wind_Speed\", \"Power_Output\"]].corr()\n",
    "print(\"Correlation matrix:\")\n",
    "print(correlation)"
   ]
  },
  {
   "cell_type": "markdown",
   "id": "ac7599d6",
   "metadata": {},
   "source": [
    " 3. Total downtime per turbine"
   ]
  },
  {
   "cell_type": "code",
   "execution_count": 27,
   "id": "9d8b7c0a",
   "metadata": {},
   "outputs": [
    {
     "name": "stdout",
     "output_type": "stream",
     "text": [
      "Total downtime (minutes):\n",
      "Turbine_ID\n",
      "T4    805\n",
      "T3    740\n",
      "T1    715\n",
      "T2    645\n",
      "T5    585\n",
      "Name: Downtime, dtype: int64\n"
     ]
    }
   ],
   "source": [
    "total_downtime = df.groupby(\"Turbine_ID\")[\"Downtime\"].sum().sort_values(ascending=False)\n",
    "print(\"Total downtime (minutes):\")\n",
    "print(total_downtime)"
   ]
  },
  {
   "cell_type": "code",
   "execution_count": 41,
   "id": "9c85e087",
   "metadata": {},
   "outputs": [
    {
     "data": {
      "image/png": "[encoded data removed]",
      "text/plain": [
       "<Figure size 1300x600 with 1 Axes>"
      ]
     },
     "metadata": {},
     "output_type": "display_data"
    }
   ],
   "source": [
    "daily_power = df.groupby(df['Timestamp'].dt.date)[\"Power_Output\"].sum()\n",
    " \n",
    "import matplotlib.pyplot as plt \n",
    "\n",
    "\n",
    "plt.figure(figsize=(13,6))\n",
    "plt.plot(daily_power.index, daily_power.values, marker='o', linestyle='-')\n",
    "plt.title(\"Daily Total Power Output (kW)\", fontweight='bold')\n",
    "plt.xlabel(\"Date\", fontweight='bold')\n",
    "plt.ylabel(\"Power Output\", fontweight='bold')\n",
    "\n",
    "plt.xticks(fontsize=8)\n",
    "plt.grid(True, linestyle='--', alpha=0.7)\n",
    "plt.tight_layout()\n",
    "plt.show()"
   ]
  },
  {
   "cell_type": "code",
   "execution_count": 42,
   "id": "2985827a",
   "metadata": {},
   "outputs": [
    {
     "name": "stdout",
     "output_type": "stream",
     "text": [
      "😨 Found 1203 sudden power drop anomalies\n"
     ]
    },
    {
     "data": {
      "text/html": [
       "<div>\n",
       "<style scoped>\n",
       "    .dataframe tbody tr th:only-of-type {\n",
       "        vertical-align: middle;\n",
       "    }\n",
       "\n",
       "    .dataframe tbody tr th {\n",
       "        vertical-align: top;\n",
       "    }\n",
       "\n",
       "    .dataframe thead th {\n",
       "        text-align: right;\n",
       "    }\n",
       "</style>\n",
       "<table border=\"1\" class=\"dataframe\">\n",
       "  <thead>\n",
       "    <tr style=\"text-align: right;\">\n",
       "      <th></th>\n",
       "      <th>Timestamp</th>\n",
       "      <th>Turbine_ID</th>\n",
       "      <th>Prev_Output</th>\n",
       "      <th>Power_Output</th>\n",
       "      <th>Drop_%</th>\n",
       "    </tr>\n",
       "  </thead>\n",
       "  <tbody>\n",
       "    <tr>\n",
       "      <th>10</th>\n",
       "      <td>2025-06-01 02:00:00</td>\n",
       "      <td>T1</td>\n",
       "      <td>114.97</td>\n",
       "      <td>54.89</td>\n",
       "      <td>52.257111</td>\n",
       "    </tr>\n",
       "    <tr>\n",
       "      <th>15</th>\n",
       "      <td>2025-06-01 03:00:00</td>\n",
       "      <td>T1</td>\n",
       "      <td>54.89</td>\n",
       "      <td>21.92</td>\n",
       "      <td>60.065586</td>\n",
       "    </tr>\n",
       "    <tr>\n",
       "      <th>35</th>\n",
       "      <td>2025-06-01 07:00:00</td>\n",
       "      <td>T1</td>\n",
       "      <td>98.55</td>\n",
       "      <td>29.74</td>\n",
       "      <td>69.822425</td>\n",
       "    </tr>\n",
       "    <tr>\n",
       "      <th>40</th>\n",
       "      <td>2025-06-01 08:00:00</td>\n",
       "      <td>T1</td>\n",
       "      <td>29.74</td>\n",
       "      <td>2.77</td>\n",
       "      <td>90.685945</td>\n",
       "    </tr>\n",
       "    <tr>\n",
       "      <th>60</th>\n",
       "      <td>2025-06-01 12:00:00</td>\n",
       "      <td>T1</td>\n",
       "      <td>141.72</td>\n",
       "      <td>2.18</td>\n",
       "      <td>98.461756</td>\n",
       "    </tr>\n",
       "  </tbody>\n",
       "</table>\n",
       "</div>"
      ],
      "text/plain": [
       "             Timestamp Turbine_ID  Prev_Output  Power_Output     Drop_%\n",
       "10 2025-06-01 02:00:00         T1       114.97         54.89  52.257111\n",
       "15 2025-06-01 03:00:00         T1        54.89         21.92  60.065586\n",
       "35 2025-06-01 07:00:00         T1        98.55         29.74  69.822425\n",
       "40 2025-06-01 08:00:00         T1        29.74          2.77  90.685945\n",
       "60 2025-06-01 12:00:00         T1       141.72          2.18  98.461756"
      ]
     },
     "execution_count": 42,
     "metadata": {},
     "output_type": "execute_result"
    }
   ],
   "source": [
    "df = df.sort_values(by=[\"Turbine_ID\", \"Timestamp\"])\n",
    "df[\"Prev_Output\"] = df.groupby(\"Turbine_ID\")[\"Power_Output\"].shift(1)\n",
    "df[\"Drop_%\"] = ((df[\"Prev_Output\"] - df[\"Power_Output\"]) / df[\"Prev_Output\"]) * 100\n",
    "anomalies = df[(df[\"Drop_%\"] > 50) & (df[\"Prev_Output\"] > 10)]  # avoid noise\n",
    "\n",
    "print(f\"😨 Found {len(anomalies)} sudden power drop anomalies\")\n",
    "anomalies[[\"Timestamp\", \"Turbine_ID\", \"Prev_Output\", \"Power_Output\", \"Drop_%\"]].head()\n"
   ]
  },
  {
   "cell_type": "code",
   "execution_count": 44,
   "id": "55075b3a",
   "metadata": {},
   "outputs": [],
   "source": [
    "df.to_csv(\"Cleaned_wind_turbine_data.csv\", index=False)\n"
   ]
  },
  {
   "cell_type": "code",
   "execution_count": null,
   "id": "8a62f67f",
   "metadata": {},
   "outputs": [],
   "source": []
  }
 ],
 "metadata": {
  "kernelspec": {
   "display_name": "Python 3",
   "language": "python",
   "name": "python3"
  },
  "language_info": {
   "codemirror_mode": {
    "name": "ipython",
    "version": 3
   },
   "file_extension": ".py",
   "mimetype": "text/x-python",
   "name": "python",
   "nbconvert_exporter": "python",
   "pygments_lexer": "ipython3",
   "version": "3.13.5"
  }
 },
 "nbformat": 4,
 "nbformat_minor": 5
}
